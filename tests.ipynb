{
 "metadata": {
  "language_info": {
   "codemirror_mode": {
    "name": "ipython",
    "version": 3
   },
   "file_extension": ".py",
   "mimetype": "text/x-python",
   "name": "python",
   "nbconvert_exporter": "python",
   "pygments_lexer": "ipython3",
   "version": "3.8.5-final"
  },
  "orig_nbformat": 2,
  "kernelspec": {
   "name": "python3",
   "display_name": "Python 3",
   "language": "python"
  }
 },
 "nbformat": 4,
 "nbformat_minor": 2,
 "cells": [
  {
   "cell_type": "code",
   "execution_count": 15,
   "metadata": {},
   "outputs": [],
   "source": [
    "import pandas as pd\n",
    "import feature_generation as fg\n",
    "import utils as u\n",
    "import numpy as np"
   ]
  },
  {
   "cell_type": "code",
   "execution_count": 6,
   "metadata": {},
   "outputs": [
    {
     "output_type": "execute_result",
     "data": {
      "text/plain": [
       "                       open    high     low   close   volume\n",
       "Date                                                        \n",
       "2017-10-09 09:00:00  4575.4  4589.5  4568.6  4585.7   628.89\n",
       "2017-10-09 10:00:00  4585.7  4619.0  4582.0  4594.9  1333.44\n",
       "2017-10-09 11:00:00  4594.9  4618.0  4594.9  4603.0   738.14\n",
       "2017-10-09 12:00:00  4603.0  4610.0  4585.0  4595.5   570.88\n",
       "2017-10-09 13:00:00  4595.5  4621.0  4585.1  4617.2  1196.97"
      ],
      "text/html": "<div>\n<style scoped>\n    .dataframe tbody tr th:only-of-type {\n        vertical-align: middle;\n    }\n\n    .dataframe tbody tr th {\n        vertical-align: top;\n    }\n\n    .dataframe thead th {\n        text-align: right;\n    }\n</style>\n<table border=\"1\" class=\"dataframe\">\n  <thead>\n    <tr style=\"text-align: right;\">\n      <th></th>\n      <th>open</th>\n      <th>high</th>\n      <th>low</th>\n      <th>close</th>\n      <th>volume</th>\n    </tr>\n    <tr>\n      <th>Date</th>\n      <th></th>\n      <th></th>\n      <th></th>\n      <th></th>\n      <th></th>\n    </tr>\n  </thead>\n  <tbody>\n    <tr>\n      <th>2017-10-09 09:00:00</th>\n      <td>4575.4</td>\n      <td>4589.5</td>\n      <td>4568.6</td>\n      <td>4585.7</td>\n      <td>628.89</td>\n    </tr>\n    <tr>\n      <th>2017-10-09 10:00:00</th>\n      <td>4585.7</td>\n      <td>4619.0</td>\n      <td>4582.0</td>\n      <td>4594.9</td>\n      <td>1333.44</td>\n    </tr>\n    <tr>\n      <th>2017-10-09 11:00:00</th>\n      <td>4594.9</td>\n      <td>4618.0</td>\n      <td>4594.9</td>\n      <td>4603.0</td>\n      <td>738.14</td>\n    </tr>\n    <tr>\n      <th>2017-10-09 12:00:00</th>\n      <td>4603.0</td>\n      <td>4610.0</td>\n      <td>4585.0</td>\n      <td>4595.5</td>\n      <td>570.88</td>\n    </tr>\n    <tr>\n      <th>2017-10-09 13:00:00</th>\n      <td>4595.5</td>\n      <td>4621.0</td>\n      <td>4585.1</td>\n      <td>4617.2</td>\n      <td>1196.97</td>\n    </tr>\n  </tbody>\n</table>\n</div>"
     },
     "metadata": {},
     "execution_count": 6
    }
   ],
   "source": [
    "btc = pd.read_csv('C:/Users/gobel/code/research_env/data/Bitfinex_BTCUSD_1h.csv', index_col='Date', parse_dates=True)\n",
    "btc = btc.iloc[::-1]\n",
    "btc = btc.reset_index()\n",
    "btc.Date = pd.to_datetime(btc.Date, format='%Y-%m-%d %I-%p')\n",
    "btc = btc.set_index('Date')\n",
    "btc = btc.drop(['Symbol', 'Volume To'], axis=1)\n",
    "btc.columns = ['open', 'high', 'low', 'close', 'volume']\n",
    "btc.head()"
   ]
  },
  {
   "cell_type": "code",
   "execution_count": 7,
   "metadata": {},
   "outputs": [],
   "source": [
    "btc['vwap'] = u.vwap(btc)\n",
    "btc['returns'] = u.returns(btc)"
   ]
  },
  {
   "cell_type": "code",
   "execution_count": 16,
   "metadata": {},
   "outputs": [
    {
     "output_type": "error",
     "ename": "AttributeError",
     "evalue": "'float' object has no attribute 'shift'",
     "traceback": [
      "\u001b[1;31m---------------------------------------------------------------------------\u001b[0m",
      "\u001b[1;31mAttributeError\u001b[0m                            Traceback (most recent call last)",
      "\u001b[1;32m<ipython-input-16-7d28beaa57c2>\u001b[0m in \u001b[0;36m<module>\u001b[1;34m\u001b[0m\n\u001b[1;32m----> 1\u001b[1;33m \u001b[0mfg\u001b[0m\u001b[1;33m.\u001b[0m\u001b[0malpha008\u001b[0m\u001b[1;33m(\u001b[0m\u001b[0mbtc\u001b[0m\u001b[1;33m)\u001b[0m\u001b[1;33m.\u001b[0m\u001b[0mhist\u001b[0m\u001b[1;33m(\u001b[0m\u001b[1;33m)\u001b[0m\u001b[1;33m\u001b[0m\u001b[1;33m\u001b[0m\u001b[0m\n\u001b[0m",
      "\u001b[1;32mc:\\Users\\gobel\\code\\research_env\\alphasearch\\101Alphas\\feature_generation.py\u001b[0m in \u001b[0;36malpha008\u001b[1;34m(df)\u001b[0m\n\u001b[0;32m     67\u001b[0m     sum(returns, 5)), 10))))\n\u001b[0;32m     68\u001b[0m     \"\"\"\n\u001b[1;32m---> 69\u001b[1;33m     \u001b[0mtemp1\u001b[0m \u001b[1;33m=\u001b[0m \u001b[1;33m(\u001b[0m\u001b[0mu\u001b[0m\u001b[1;33m.\u001b[0m\u001b[0mts_sum\u001b[0m\u001b[1;33m(\u001b[0m\u001b[0mdf\u001b[0m\u001b[1;33m.\u001b[0m\u001b[0mopen\u001b[0m\u001b[1;33m,\u001b[0m \u001b[1;36m5\u001b[0m\u001b[1;33m)\u001b[0m \u001b[1;33m*\u001b[0m \u001b[0mu\u001b[0m\u001b[1;33m.\u001b[0m\u001b[0mts_sum\u001b[0m\u001b[1;33m(\u001b[0m\u001b[0mdf\u001b[0m\u001b[1;33m.\u001b[0m\u001b[0mreturns\u001b[0m\u001b[1;33m,\u001b[0m \u001b[1;36m5\u001b[0m\u001b[1;33m)\u001b[0m\u001b[1;33m)\u001b[0m\u001b[1;33m\u001b[0m\u001b[1;33m\u001b[0m\u001b[0m\n\u001b[0m\u001b[0;32m     70\u001b[0m     \u001b[0mtemp2\u001b[0m \u001b[1;33m=\u001b[0m \u001b[0mu\u001b[0m\u001b[1;33m.\u001b[0m\u001b[0mdelay\u001b[0m\u001b[1;33m(\u001b[0m\u001b[1;33m(\u001b[0m\u001b[0mu\u001b[0m\u001b[1;33m.\u001b[0m\u001b[0mts_sum\u001b[0m\u001b[1;33m(\u001b[0m\u001b[0mdf\u001b[0m\u001b[1;33m.\u001b[0m\u001b[0mopen\u001b[0m\u001b[1;33m,\u001b[0m \u001b[1;36m5\u001b[0m\u001b[1;33m)\u001b[0m \u001b[1;33m*\u001b[0m \u001b[0mu\u001b[0m\u001b[1;33m.\u001b[0m\u001b[0mts_sum\u001b[0m\u001b[1;33m(\u001b[0m\u001b[0mdf\u001b[0m\u001b[1;33m.\u001b[0m\u001b[0mreturns\u001b[0m\u001b[1;33m,\u001b[0m \u001b[1;36m5\u001b[0m\u001b[1;33m)\u001b[0m\u001b[1;33m)\u001b[0m\u001b[1;33m,\u001b[0m \u001b[1;36m10\u001b[0m\u001b[1;33m)\u001b[0m\u001b[1;33m\u001b[0m\u001b[1;33m\u001b[0m\u001b[0m\n\u001b[0;32m     71\u001b[0m     \u001b[1;32mreturn\u001b[0m \u001b[1;33m(\u001b[0m\u001b[1;33m-\u001b[0m\u001b[1;36m1\u001b[0m \u001b[1;33m*\u001b[0m \u001b[0mu\u001b[0m\u001b[1;33m.\u001b[0m\u001b[0mrank\u001b[0m\u001b[1;33m(\u001b[0m\u001b[0mtemp1\u001b[0m \u001b[1;33m-\u001b[0m \u001b[0mtemp2\u001b[0m\u001b[1;33m)\u001b[0m\u001b[1;33m)\u001b[0m\u001b[1;33m\u001b[0m\u001b[1;33m\u001b[0m\u001b[0m\n",
      "\u001b[1;32mc:\\Users\\gobel\\code\\research_env\\alphasearch\\101Alphas\\utils.py\u001b[0m in \u001b[0;36mdelay\u001b[1;34m(df, d)\u001b[0m\n\u001b[0;32m     55\u001b[0m     \u001b[0mvalue\u001b[0m \u001b[0mof\u001b[0m \u001b[0mx\u001b[0m \u001b[0md\u001b[0m \u001b[0mdays\u001b[0m \u001b[0mago\u001b[0m\u001b[1;33m\u001b[0m\u001b[1;33m\u001b[0m\u001b[0m\n\u001b[0;32m     56\u001b[0m     \"\"\"\n\u001b[1;32m---> 57\u001b[1;33m     \u001b[1;32mreturn\u001b[0m \u001b[0mdf\u001b[0m\u001b[1;33m.\u001b[0m\u001b[0mshift\u001b[0m\u001b[1;33m(\u001b[0m\u001b[0md\u001b[0m\u001b[1;33m)\u001b[0m\u001b[1;33m\u001b[0m\u001b[1;33m\u001b[0m\u001b[0m\n\u001b[0m\u001b[0;32m     58\u001b[0m \u001b[1;33m\u001b[0m\u001b[0m\n\u001b[0;32m     59\u001b[0m \u001b[1;33m\u001b[0m\u001b[0m\n",
      "\u001b[1;31mAttributeError\u001b[0m: 'float' object has no attribute 'shift'"
     ]
    }
   ],
   "source": [
    "fg.alpha008(btc).hist()"
   ]
  },
  {
   "cell_type": "code",
   "execution_count": null,
   "metadata": {},
   "outputs": [],
   "source": []
  }
 ]
}