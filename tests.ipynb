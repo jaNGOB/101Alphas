{
 "metadata": {
  "language_info": {
   "codemirror_mode": {
    "name": "ipython",
    "version": 3
   },
   "file_extension": ".py",
   "mimetype": "text/x-python",
   "name": "python",
   "nbconvert_exporter": "python",
   "pygments_lexer": "ipython3",
   "version": "3.8.5-final"
  },
  "orig_nbformat": 2,
  "kernelspec": {
   "name": "python3",
   "display_name": "Python 3",
   "language": "python"
  }
 },
 "nbformat": 4,
 "nbformat_minor": 2,
 "cells": [
  {
   "cell_type": "code",
   "execution_count": 1,
   "metadata": {},
   "outputs": [],
   "source": [
    "import pandas as pd\n",
    "import feature_generation as fg\n",
    "import utils as u\n",
    "import numpy as np"
   ]
  },
  {
   "cell_type": "code",
   "execution_count": 2,
   "metadata": {},
   "outputs": [
    {
     "output_type": "execute_result",
     "data": {
      "text/plain": [
       "                       open    high     low   close   volume    vwap   returns\n",
       "Date                                                                          \n",
       "2017-10-09 10:00:00  4585.7  4619.0  4582.0  4594.9  1333.44  4594.9  0.002006\n",
       "2017-10-09 11:00:00  4594.9  4618.0  4594.9  4603.0   738.14  4603.0  0.001763\n",
       "2017-10-09 12:00:00  4603.0  4610.0  4585.0  4595.5   570.88  4595.5 -0.001629\n",
       "2017-10-09 13:00:00  4595.5  4621.0  4585.1  4617.2  1196.97  4617.2  0.004722\n",
       "2017-10-09 14:00:00  4617.2  4672.4  4614.5  4667.0  2702.16  4667.0  0.010786"
      ],
      "text/html": "<div>\n<style scoped>\n    .dataframe tbody tr th:only-of-type {\n        vertical-align: middle;\n    }\n\n    .dataframe tbody tr th {\n        vertical-align: top;\n    }\n\n    .dataframe thead th {\n        text-align: right;\n    }\n</style>\n<table border=\"1\" class=\"dataframe\">\n  <thead>\n    <tr style=\"text-align: right;\">\n      <th></th>\n      <th>open</th>\n      <th>high</th>\n      <th>low</th>\n      <th>close</th>\n      <th>volume</th>\n      <th>vwap</th>\n      <th>returns</th>\n    </tr>\n    <tr>\n      <th>Date</th>\n      <th></th>\n      <th></th>\n      <th></th>\n      <th></th>\n      <th></th>\n      <th></th>\n      <th></th>\n    </tr>\n  </thead>\n  <tbody>\n    <tr>\n      <th>2017-10-09 10:00:00</th>\n      <td>4585.7</td>\n      <td>4619.0</td>\n      <td>4582.0</td>\n      <td>4594.9</td>\n      <td>1333.44</td>\n      <td>4594.9</td>\n      <td>0.002006</td>\n    </tr>\n    <tr>\n      <th>2017-10-09 11:00:00</th>\n      <td>4594.9</td>\n      <td>4618.0</td>\n      <td>4594.9</td>\n      <td>4603.0</td>\n      <td>738.14</td>\n      <td>4603.0</td>\n      <td>0.001763</td>\n    </tr>\n    <tr>\n      <th>2017-10-09 12:00:00</th>\n      <td>4603.0</td>\n      <td>4610.0</td>\n      <td>4585.0</td>\n      <td>4595.5</td>\n      <td>570.88</td>\n      <td>4595.5</td>\n      <td>-0.001629</td>\n    </tr>\n    <tr>\n      <th>2017-10-09 13:00:00</th>\n      <td>4595.5</td>\n      <td>4621.0</td>\n      <td>4585.1</td>\n      <td>4617.2</td>\n      <td>1196.97</td>\n      <td>4617.2</td>\n      <td>0.004722</td>\n    </tr>\n    <tr>\n      <th>2017-10-09 14:00:00</th>\n      <td>4617.2</td>\n      <td>4672.4</td>\n      <td>4614.5</td>\n      <td>4667.0</td>\n      <td>2702.16</td>\n      <td>4667.0</td>\n      <td>0.010786</td>\n    </tr>\n  </tbody>\n</table>\n</div>"
     },
     "metadata": {},
     "execution_count": 2
    }
   ],
   "source": [
    "btc = pd.read_csv('C:/Users/gobel/code/research_env/data/Bitfinex_BTCUSD_1h.csv', index_col='Date', parse_dates=True)\n",
    "btc = btc.iloc[::-1]\n",
    "btc = btc.reset_index()\n",
    "btc.Date = pd.to_datetime(btc.Date, format='%Y-%m-%d %I-%p')\n",
    "btc = btc.set_index('Date')\n",
    "btc = btc.drop(['Symbol', 'Volume To'], axis=1)\n",
    "btc.columns = ['open', 'high', 'low', 'close', 'volume']\n",
    "btc['vwap'] = u.vwap(btc)\n",
    "btc['returns'] = u.returns(btc)\n",
    "btc = btc[1:]\n",
    "btc.head()"
   ]
  },
  {
   "cell_type": "code",
   "execution_count": 3,
   "metadata": {},
   "outputs": [
    {
     "output_type": "execute_result",
     "data": {
      "text/plain": [
       "Date\n",
       "2017-10-09 10:00:00         NaN\n",
       "2017-10-09 11:00:00         NaN\n",
       "2017-10-09 12:00:00         NaN\n",
       "2017-10-09 13:00:00         NaN\n",
       "2017-10-09 14:00:00         NaN\n",
       "                         ...   \n",
       "2018-11-25 14:00:00   -0.909036\n",
       "2018-11-25 15:00:00   -0.801882\n",
       "2018-11-25 16:00:00   -0.726399\n",
       "2018-11-25 17:00:00   -0.258322\n",
       "2018-11-25 18:00:00   -0.171405\n",
       "Length: 9897, dtype: float64"
      ]
     },
     "metadata": {},
     "execution_count": 3
    }
   ],
   "source": [
    "fg.alpha008(btc)"
   ]
  },
  {
   "cell_type": "code",
   "execution_count": null,
   "metadata": {},
   "outputs": [],
   "source": []
  }
 ]
}